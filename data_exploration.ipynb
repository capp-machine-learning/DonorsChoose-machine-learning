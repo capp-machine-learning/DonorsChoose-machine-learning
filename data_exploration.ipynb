{
 "cells": [
  {
   "cell_type": "code",
   "execution_count": 1,
   "metadata": {},
   "outputs": [],
   "source": [
    "import pandas as pd\n",
    "import seaborn as sns\n",
    "\n",
    "import pipeline\n",
    "#import cleaning\n",
    "from model import *\n",
    "from extract_data import *\n",
    "from evaluation import *\n",
    "from config import *\n",
    "pd.set_option('display.max_columns', None)\n",
    "%matplotlib inline"
   ]
  },
  {
   "cell_type": "code",
   "execution_count": 2,
   "metadata": {},
   "outputs": [],
   "source": [
    "# Read the config file\n",
    "cfg = pipeline.read_config('config.yaml')"
   ]
  },
  {
   "cell_type": "code",
   "execution_count": null,
   "metadata": {},
   "outputs": [],
   "source": [
    "cfg"
   ]
  },
  {
   "cell_type": "markdown",
   "metadata": {},
   "source": [
    "## 1. Read Data"
   ]
  },
  {
   "cell_type": "code",
   "execution_count": null,
   "metadata": {},
   "outputs": [],
   "source": [
    "df = pipeline.read_data(cfg['datafile'])"
   ]
  },
  {
   "cell_type": "code",
   "execution_count": null,
   "metadata": {},
   "outputs": [],
   "source": [
    "cleaning.convert_dtypes(df)"
   ]
  },
  {
   "cell_type": "code",
   "execution_count": null,
   "metadata": {},
   "outputs": [],
   "source": [
    "df = cleaning.select_features(df)"
   ]
  },
  {
   "cell_type": "code",
   "execution_count": null,
   "metadata": {},
   "outputs": [],
   "source": [
    "cleaning.generate_time_label(df, 'date_posted', 'datefullyfunded', cfg['outcome_var'])"
   ]
  },
  {
   "cell_type": "code",
   "execution_count": null,
   "metadata": {},
   "outputs": [],
   "source": [
    "df = cleaning.generate_dummy(df, cfg['feature_types']['categorical'])"
   ]
  },
  {
   "cell_type": "code",
   "execution_count": null,
   "metadata": {},
   "outputs": [],
   "source": [
    "df.head()"
   ]
  },
  {
   "cell_type": "markdown",
   "metadata": {},
   "source": [
    "## Explore Data"
   ]
  },
  {
   "cell_type": "code",
   "execution_count": null,
   "metadata": {},
   "outputs": [],
   "source": [
    "df.dtypes"
   ]
  },
  {
   "cell_type": "code",
   "execution_count": null,
   "metadata": {},
   "outputs": [],
   "source": [
    "pipeline.view_variable_freq(df, 'school_latitude')"
   ]
  },
  {
   "cell_type": "code",
   "execution_count": null,
   "metadata": {},
   "outputs": [],
   "source": [
    "pipeline.view_variable_freq(df, 'secondary_focus_area')"
   ]
  },
  {
   "cell_type": "markdown",
   "metadata": {},
   "source": [
    "### Missing Data\n",
    "\n",
    "Next, we will analyze missing data. Specifically, we will look to see if any of the features have any missing data and if so, if there are any patterns."
   ]
  },
  {
   "cell_type": "code",
   "execution_count": null,
   "metadata": {},
   "outputs": [],
   "source": [
    "nan_vars = pipeline.analyze_missing_data(df)"
   ]
  },
  {
   "cell_type": "markdown",
   "metadata": {},
   "source": [
    "The heatmap shows the following pairs of features have exactly same missing data patterns:\n",
    "- __*secondary_focus_subject*__ & __*secondary_focus_area*__\n",
    "- __*primary_focus_subject*__ & __*primary_focus_area*__\n"
   ]
  },
  {
   "cell_type": "code",
   "execution_count": null,
   "metadata": {},
   "outputs": [],
   "source": [
    "t = [1,2,3].remove(1)\n",
    "print(t)"
   ]
  },
  {
   "cell_type": "code",
   "execution_count": 3,
   "metadata": {},
   "outputs": [],
   "source": [
    "df = read_data('./data/clean_projects_2012_2013.csv')"
   ]
  },
  {
   "cell_type": "code",
   "execution_count": 4,
   "metadata": {},
   "outputs": [],
   "source": [
    "df = df.drop('datefullyfunded', axis=1)"
   ]
  },
  {
   "cell_type": "code",
   "execution_count": 5,
   "metadata": {},
   "outputs": [],
   "source": [
    "df = df.reset_index()\n",
    "df = df.drop('projectid', axis=1)"
   ]
  },
  {
   "cell_type": "code",
   "execution_count": 6,
   "metadata": {},
   "outputs": [
    {
     "name": "stdout",
     "output_type": "stream",
     "text": [
      "                  NaN  Percent of NaN\n",
      "students_reached  59   0.05          \n",
      "\n",
      "################################################################\n",
      "\n",
      "The following features have missing values:\n",
      "['students_reached']\n",
      "\n",
      "- students_reached has 59 missing values, which are 0.05% of the entire data\n",
      "\n",
      "################################################################\n",
      "\n",
      "Nullity matrix and correlation heatmap for features with NaNs.\n"
     ]
    },
    {
     "data": {
      "image/png": "[encoded data removed]",
      "text/plain": [
       "<Figure size 1080x360 with 2 Axes>"
      ]
     },
     "metadata": {
      "needs_background": "light"
     },
     "output_type": "display_data"
    },
    {
     "data": {
      "image/png": "[encoded data removed]",
      "text/plain": [
       "<Figure size 720x720 with 1 Axes>"
      ]
     },
     "metadata": {
      "needs_background": "light"
     },
     "output_type": "display_data"
    }
   ],
   "source": [
    "nan_vars = pipeline.analyze_missing_data(df)"
   ]
  },
  {
   "cell_type": "code",
   "execution_count": 7,
   "metadata": {},
   "outputs": [
    {
     "name": "stdout",
     "output_type": "stream",
     "text": [
      "For students_reached, median is selected.\n",
      "\n",
      "Imputation completed!\n"
     ]
    }
   ],
   "source": [
    "pipeline.impute_missing_data(df, nan_vars)"
   ]
  },
  {
   "cell_type": "code",
   "execution_count": 8,
   "metadata": {},
   "outputs": [],
   "source": [
    "temporal_sets = temporal_loop(df, 'date_posted', ['2012-07-01', '2013-01-01', '2013-07-01'], 6)"
   ]
  },
  {
   "cell_type": "code",
   "execution_count": 9,
   "metadata": {},
   "outputs": [],
   "source": [
    "CONFIG = read_config('./config.yaml')"
   ]
  },
  {
   "cell_type": "code",
   "execution_count": 10,
   "metadata": {},
   "outputs": [],
   "source": [
    "\n",
    "grid = CONFIG['parameters']\n",
    "models = CONFIG['models']\n",
    "outcome = CONFIG['outcome_var']"
   ]
  },
  {
   "cell_type": "code",
   "execution_count": null,
   "metadata": {},
   "outputs": [],
   "source": [
    "for (date, (X_train, X_test, y_train, y_test)) in temporal_sets:\n",
    "\n",
    "    for m in models:\n",
    "        mdls = train_model(X_train, y_train, m, grid)\n",
    "        for params, ms in mdls:\n",
    "            print(m)\n",
    "            print(params)\n",
    "            print(evaluate_model(X_test, y_test, ms))"
   ]
  },
  {
   "cell_type": "code",
   "execution_count": null,
   "metadata": {},
   "outputs": [
    {
     "name": "stderr",
     "output_type": "stream",
     "text": [
      "/home/siyoungbyun/anaconda3/envs/donorsml/lib/python3.7/site-packages/sklearn/svm/base.py:931: ConvergenceWarning: Liblinear failed to converge, increase the number of iterations.\n",
      "  \"the number of iterations.\", ConvergenceWarning)\n",
      "/home/siyoungbyun/anaconda3/envs/donorsml/lib/python3.7/site-packages/sklearn/svm/base.py:931: ConvergenceWarning: Liblinear failed to converge, increase the number of iterations.\n",
      "  \"the number of iterations.\", ConvergenceWarning)\n"
     ]
    }
   ],
   "source": [
    "full_results = pd.DataFrame(columns=['Date', 'Model','Parameters','Accuracy','F1','AUC_ROC','Precision_at_1%', 'Recall_at_1%','Precision_at_2%', 'Recall_at_2%','Precision_at_5%', 'Recall_at_5%','Precision_at_10%', 'Recall_at_10%','Precision_at_20%', 'Recall_at_20%','Precision_at_30%', 'Recall_at_30%','Precision_at_50%', 'Recall_at_50%'])\n",
    "\n",
    "i = 0\n",
    "\n",
    "for (date, (X_train, X_test, y_train, y_test)) in temporal_sets:\n",
    "\n",
    "    for m in models:\n",
    "        mdls = train_model(X_train, y_train, m, grid)\n",
    "        for params, ms in mdls:\n",
    "            (acc, f1, auc, p1, r1, p2, r2, p5, r5, p10, r10, p20, r20, p30, r30, p50, r50) = evaluate_model(X_test, y_test, ms)\n",
    "            full_results.loc[i,'Date'] = date\n",
    "            full_results.loc[i,'Model'] = m\n",
    "            full_results.loc[i,'Parameters'] = str(params)\n",
    "            full_results.loc[i,'Accuracy'] = acc\n",
    "            full_results.loc[i,'F1'] = f1\n",
    "            full_results.loc[i,'AUC_ROC'] = auc\n",
    "            full_results.loc[i,'Precision_at_1%'] = p1\n",
    "            full_results.loc[i,'Recall_at_1%'] = r1\n",
    "            full_results.loc[i,'Precision_at_2%'] = p2\n",
    "            full_results.loc[i,'Recall_at_2%'] = r2\n",
    "            full_results.loc[i,'Precision_at_5%'] = p5\n",
    "            full_results.loc[i,'Recall_at_5%'] = r5\n",
    "            full_results.loc[i,'Precision_at_10%'] = p10\n",
    "            full_results.loc[i,'Recall_at_10%'] = r10\n",
    "            full_results.loc[i,'Precision_at_20%'] = p20\n",
    "            full_results.loc[i,'Recall_at_20%'] = r20\n",
    "            full_results.loc[i,'Precision_at_30%'] = p30\n",
    "            full_results.loc[i,'Recall_at_30%'] = r30\n",
    "            full_results.loc[i,'Precision_at_50%'] = p50\n",
    "            full_results.loc[i,'Recall_at_50%'] = r50\n",
    "            i += 1\n"
   ]
  },
  {
   "cell_type": "code",
   "execution_count": null,
   "metadata": {},
   "outputs": [],
   "source": [
    "full_results.head(20)"
   ]
  },
  {
   "cell_type": "code",
   "execution_count": null,
   "metadata": {},
   "outputs": [],
   "source": []
  }
 ],
 "metadata": {
  "kernelspec": {
   "display_name": "Python 3",
   "language": "python",
   "name": "python3"
  },
  "language_info": {
   "codemirror_mode": {
    "name": "ipython",
    "version": 3
   },
   "file_extension": ".py",
   "mimetype": "text/x-python",
   "name": "python",
   "nbconvert_exporter": "python",
   "pygments_lexer": "ipython3",
   "version": "3.7.3"
  }
 },
 "nbformat": 4,
 "nbformat_minor": 2
}
