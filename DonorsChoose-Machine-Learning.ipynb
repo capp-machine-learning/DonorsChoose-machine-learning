{
 "cells": [
  {
   "cell_type": "code",
   "execution_count": 1,
   "metadata": {},
   "outputs": [],
   "source": [
    "# Fix\n",
    "from run import main"
   ]
  },
  {
   "cell_type": "code",
   "execution_count": 2,
   "metadata": {},
   "outputs": [
    {
     "name": "stdout",
     "output_type": "stream",
     "text": [
      "# Deleted the existing log file.\n",
      "\n",
      "# Loading the data...\n",
      "    >>> SUCCESS!\n",
      "\n",
      "# Converting the data into preconfigured dtypes...\n",
      "    >>> SUCCESS!\n",
      "\n",
      "#########################################################\n",
      "\n",
      "Summary for the loaded dataset\n",
      "\n",
      "The total number of rows is 124976\n",
      "\n",
      "The total number of rows is 25\n",
      "\n",
      "Descriptive Statistics:\n",
      "\n",
      "       school_ncesid  school_latitude  school_longitude  \\\n",
      "count   1.157430e+05    124976.000000     124976.000000   \n",
      "mean    2.448448e+11        36.827284        -95.859299   \n",
      "std     1.644728e+11         4.963669         18.392876   \n",
      "min     1.000050e+10        18.249140       -171.690554   \n",
      "25%     6.344101e+10        33.872504       -117.806418   \n",
      "50%     2.200870e+11        36.617410        -90.101563   \n",
      "75%     3.704880e+11        40.676156        -80.713740   \n",
      "max     6.100010e+11        65.672562        -66.628036   \n",
      "\n",
      "       total_price_including_optional_support  students_reached  \n",
      "count                           124976.000000     124917.000000  \n",
      "mean                               654.011811         95.445760  \n",
      "std                               1098.015854        163.481912  \n",
      "min                                 92.000000          1.000000  \n",
      "25%                                345.810000         23.000000  \n",
      "50%                                510.500000         30.000000  \n",
      "75%                                752.960000        100.000000  \n",
      "max                             164382.840000      12143.000000  \n",
      "\n",
      "\n",
      "#########################################################\n",
      "\n",
      "\n",
      "# Attempting to select the following features:\n",
      "    ['school_latitude', 'school_longitude', 'school_state', 'school_metro', 'school_charter', 'school_magnet', 'teacher_prefix', 'primary_focus_subject', 'primary_focus_area', 'resource_type', 'poverty_level', 'grade_level', 'total_price_including_optional_support', 'students_reached', 'eligible_double_your_impact_match', 'date_posted', 'datefullyfunded']...\n",
      "    >>> SUCCESS!\n",
      "\n",
      "# Attempting to generate a label called 'fullyfunded_within_60days' based on ['date_posted', 'datefullyfunded']...\n",
      "['school_latitude', 'school_longitude', 'school_state', 'school_metro', 'school_charter', 'school_magnet', 'teacher_prefix', 'primary_focus_subject', 'primary_focus_area', 'resource_type', 'poverty_level', 'grade_level', 'total_price_including_optional_support', 'students_reached', 'eligible_double_your_impact_match', 'date_posted', 'datefullyfunded', 'fullyfunded_within_60days']\n",
      "    >>> SUCCESS!\n",
      "# The data for 2012-07-01 is saved.\n",
      "\n",
      "# The data for 2013-01-01 is saved.\n",
      "\n",
      "# The data for 2013-07-01 is saved.\n",
      "\n"
     ]
    }
   ],
   "source": [
    "temporal_sets = main(log=True)"
   ]
  },
  {
   "cell_type": "code",
   "execution_count": 10,
   "metadata": {},
   "outputs": [],
   "source": [
    "train_df = temporal_sets[0][1][0]\n",
    "test_df = temporal_sets[0][1][1]"
   ]
  },
  {
   "cell_type": "code",
   "execution_count": 7,
   "metadata": {},
   "outputs": [
    {
     "data": {
      "text/plain": [
       "projectid\n",
       "0000fa3aa8f6649abab23615b546016d    1\n",
       "000134f07d4b30140d63262c871748ff    0\n",
       "000be0b57987d6c29d650a88eac2961b    0\n",
       "000e6a13fd69bf0e426403b1d5da0e99    1\n",
       "00105edf14ebb7f146d6ba2098639bb1    0\n",
       "00134d14226ef613134712c54211f754    0\n",
       "00136585c0e4a67afaa964403cf9f45b    0\n",
       "0013a402fb4cf84e3d60d7a59566dff8    1\n",
       "0014d10f538cd1a7d97053f4d653f1f6    1\n",
       "00161a60318f303f71bce3e292aa547d    1\n",
       "001706ada83ac3f90369cdd3915d2dcf    1\n",
       "00176778e93d54ed26f601f7a0af4b35    1\n",
       "00199bf192b852aa21573c69ed14565e    1\n",
       "001d5055cf26a15651c3def86c6d6372    1\n",
       "00239094b2720ccbd7a456a3c962f03b    0\n",
       "0023f4e20e9ac0d53d7f1436d5711c5b    1\n",
       "0024f9ac77374c0aac865543bb78eb46    1\n",
       "00250a8ddc3f0223ac383aeeaa48c2f1    0\n",
       "00253a9de723379d8b86d5b08b7d46ff    0\n",
       "0027e1923d1ea12fccb705e50db911dc    1\n",
       "002e341587b92b8963dd7b97cfdf7129    1\n",
       "002f926c33d27d1a5e917186b786335d    1\n",
       "003257df1a85fa0f0fefdb0fd6e55237    1\n",
       "0035903dc05abc095cb4663a5fc9ac53    1\n",
       "00377c2e78f1aa128fc1a509ed7b9213    0\n",
       "003a0f03bd7f9114bf5b7357fc141277    1\n",
       "003d3562242b7e73640af426d28016bb    1\n",
       "003ddb6727c2a6b3a7fca419842308b0    1\n",
       "004192554c05a6b6089be4504d4ca36f    1\n",
       "0042038709f10338dcccdfa92018df13    0\n",
       "                                   ..\n",
       "ffb75049aae808d2a671dc3c0fbbf41c    1\n",
       "ffbf4e6c695bde44f4b47f8b400af3a4    1\n",
       "ffbf5aa3360084894609fda49d4440db    1\n",
       "ffc641ef3b1d671cd204353f6e85e196    0\n",
       "ffc9c25491ffa8d631063aa381a084bf    1\n",
       "ffcbbe69b2ccace55acf6ea9c340696f    0\n",
       "ffcc17952325f217e05c1d8fc1cbfa60    1\n",
       "ffcc7709a0ee13ecaf3ce079c4968205    1\n",
       "ffcf8eff80ca7d98682ec8059c2d6625    1\n",
       "ffd403cc1c6a40efbc1f9000fd3ca2fe    1\n",
       "ffd9a5e2567d01d34a8f65bcf3eb60c4    0\n",
       "ffddce07c447e0ef8a08f1cdfd0bf3fc    1\n",
       "ffe0b8d9e8461ffdeb00ece519cd3098    1\n",
       "ffe19024955d45a2f9d0a7ee27524b41    0\n",
       "ffe25a1f8009ca1b3260b113a3184869    1\n",
       "ffe37f915069e3bae7bb36f9ed4a5267    1\n",
       "ffe3d85799fe9edf582d289608511b22    1\n",
       "ffe555ac4234becbb73bca0d7bb15efb    0\n",
       "ffe73da73761ef44f33317375c3f0bc3    0\n",
       "ffe73e3028afc456ae03be5bce3ec6c0    0\n",
       "ffe8a1c2fa5b0c0a78ba4acfd7ca85b6    1\n",
       "ffe8c4eb1e4b38e79a695c5175b5bb3a    0\n",
       "ffea3f7012ad1cb0076ee9646c4f15d0    1\n",
       "ffeba8e728d4299450bd4698ad496170    0\n",
       "fff427a481a6ae0da7c79ee3a568a25d    1\n",
       "fff4a452b872e91d3953849c26d66762    1\n",
       "fff5fd6f1a382a7a9ceff838f35212e1    1\n",
       "fffb88aa251449f1ba0b31d5552426b0    1\n",
       "fffcfa4388e8ac482c44734bffa891c8    1\n",
       "fffe45b28ea6f2889de1e3f797fb31a3    1\n",
       "Name: fullyfunded_within_60days, Length: 26386, dtype: int64"
      ]
     },
     "execution_count": 7,
     "metadata": {},
     "output_type": "execute_result"
    }
   ],
   "source": [
    "temporal_sets[0][1][2]"
   ]
  },
  {
   "cell_type": "code",
   "execution_count": 11,
   "metadata": {},
   "outputs": [
    {
     "name": "stdout",
     "output_type": "stream",
     "text": [
      "2012-07-01 00:00:00\n",
      "2012-12-31 00:00:00\n",
      "2012-01-01 00:00:00\n",
      "2012-06-30 00:00:00\n"
     ]
    }
   ],
   "source": [
    "print(test_df['date_posted'].min())\n",
    "print(test_df['date_posted'].max())\n",
    "print(train_df['date_posted'].min())\n",
    "print(train_df['date_posted'].max())"
   ]
  },
  {
   "cell_type": "code",
   "execution_count": null,
   "metadata": {},
   "outputs": [],
   "source": []
  }
 ],
 "metadata": {
  "kernelspec": {
   "display_name": "Python 3",
   "language": "python",
   "name": "python3"
  },
  "language_info": {
   "codemirror_mode": {
    "name": "ipython",
    "version": 3
   },
   "file_extension": ".py",
   "mimetype": "text/x-python",
   "name": "python",
   "nbconvert_exporter": "python",
   "pygments_lexer": "ipython3",
   "version": "3.7.3"
  }
 },
 "nbformat": 4,
 "nbformat_minor": 2
}
